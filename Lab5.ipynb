{
 "cells": [
  {
   "cell_type": "code",
   "execution_count": 35,
   "metadata": {
    "colab": {
     "base_uri": "https://localhost:8080/",
     "height": 34
    },
    "colab_type": "code",
    "id": "shywCbkhJQCq",
    "outputId": "e24130ff-00a5-42ef-e72f-118c3ef159dd"
   },
   "outputs": [
    {
     "name": "stdout",
     "output_type": "stream",
     "text": [
      "The Distance is:\n",
      "is 12.083045973594572\n"
     ]
    }
   ],
   "source": [
    "import math\n",
    "\n",
    "\n",
    "class Point(object):\n",
    "    print(\"The Distance is:\")\n",
    "\n",
    "first = Point()\n",
    "second = Point()\n",
    "\n",
    "first.x, first.y = 5.0, 5.0\n",
    "second.x, second.y = 16.0, 10.0\n",
    "\n",
    "\n",
    "def distance(p1, p2):\n",
    "    \n",
    "    dis_1 = p2.x - p1.x\n",
    "    dis_2 = p2.y - p1.y\n",
    "    return math.sqrt(dis_1 ** 2 + dis_2 ** 2)\n",
    "\n",
    "print (f\"is {distance(first, second)}\")\n",
    "\n"
   ]
  },
  {
   "cell_type": "code",
   "execution_count": 3,
   "metadata": {
    "colab": {
     "base_uri": "https://localhost:8080/",
     "height": 34
    },
    "colab_type": "code",
    "id": "kuHX7KtBL7ce",
    "outputId": "38c4da62-55cc-4a4d-cb70-11e0e42c44fa"
   },
   "outputs": [
    {
     "name": "stdout",
     "output_type": "stream",
     "text": [
      "Point Task:\n",
      "Rectangle\n",
      "0.0\n",
      "0.0\n",
      "4.0\n",
      "3.0\n"
     ]
    }
   ],
   "source": [
    "class Point(object):\n",
    "    print(\"Point Task:\")\n",
    "    \n",
    "\n",
    "class Rectangle(object):\n",
    "    print(\"Rectangle\")\n",
    "\n",
    "def move_rectangle(rect, dx, dy):\n",
    "    rect.corner.x += dx\n",
    "    rect.corner.y += dy\n",
    "\n",
    "\n",
    "box = Rectangle()\n",
    "\n",
    "box.width = 100.0\n",
    "box.height = 200.0\n",
    "\n",
    "box.corner = Point()\n",
    "\n",
    "box.corner.x = 0.0\n",
    "box.corner.y = 0.0\n",
    "\n",
    "print (box.corner.x)\n",
    "print (box.corner.y)\n",
    "\n",
    "move_rectangle(box, 4.0, 3.0)\n",
    "\n",
    "print (box.corner.x)\n",
    "print (box.corner.y)"
   ]
  },
  {
   "cell_type": "code",
   "execution_count": null,
   "metadata": {
    "colab": {
     "base_uri": "https://localhost:8080/",
     "height": 67
    },
    "colab_type": "code",
    "id": "t6E3bddHJMVn",
    "outputId": "2b37ac76-4974-43d6-8884-28edfb01fc5b"
   },
   "outputs": [],
   "source": []
  },
  {
   "cell_type": "code",
   "execution_count": 4,
   "metadata": {
    "colab": {
     "base_uri": "https://localhost:8080/",
     "height": 34
    },
    "colab_type": "code",
    "id": "GBDDAPXv0ROf",
    "outputId": "7aba9b7b-29c8-4c3e-e937-b748f4cca00f"
   },
   "outputs": [
    {
     "name": "stdout",
     "output_type": "stream",
     "text": [
      "192.168.0.1/16\n"
     ]
    }
   ],
   "source": [
    "class IPv4():\n",
    "\n",
    "    def __init__(self,ipa,suc):\n",
    "        self.ipa = ipa\n",
    "        self.suc = suc\n",
    "\n",
    "    def __str__(self):\n",
    "        temp_str = \".\".join(self.ipa)\n",
    "        temp_str = temp_str + \"/\" + str(self.suc)\n",
    "        return temp_str\n",
    "\n",
    "    def ip_address(address):\n",
    "        for mask in range(32):\n",
    "            if len(adress) > 0:\n",
    "                return address\n",
    "\n",
    "    def getNetwork(ipa):\n",
    "        ipa = ipa.ip_network('10.0.1.7/24')\n",
    "        return ipa\n",
    "\n",
    "    def getMask(self,suc):\n",
    "        self.suc = suc('255.255.3.23')\n",
    "        return lst_ip\n",
    "\n",
    "    def getAddres():\n",
    "        if ipa in lst_ip:\n",
    "            return ipa\n",
    "\n",
    "lst_ip = [\"192\",\"168\",\"0\",\"1\"]\n",
    "ip1 = IPv4(lst_ip,16)\n",
    "print(ip1)"
   ]
  },
  {
   "cell_type": "code",
   "execution_count": 5,
   "metadata": {
    "colab": {},
    "colab_type": "code",
    "id": "1ItXuvvbEWcB"
   },
   "outputs": [],
   "source": [
    "def subnetworkConverter(address,mask):\n",
    "    ip = Ipv4(address,mask)\n",
    "    new_net = ip.getNetwork()\n",
    "    print(new_net)\n",
    "    broadcast_network = []\n",
    "    for i in new_network:\n",
    "        broadcast_network.append(i)\n",
    "  \n",
    "    x=0\n",
    "    y=0\n",
    "    if mask == 8:\n",
    "        while x<3:\n",
    "            broadcast_network.pop()\n",
    "            x+=1\n",
    "        while y<3:\n",
    "            broadcast_network.append(255)\n",
    "            y+=1\n",
    "    if mask == 16:\n",
    "        while x<2:\n",
    "            broadcast_network.pop()\n",
    "            x+=1\n",
    "        while y<2:\n",
    "            broadcast_network.append(255)\n",
    "            y+=1\n",
    "    if mask == 24:\n",
    "        while x<1:\n",
    "            broadcast_network.pop()\n",
    "            x+=1\n",
    "        while y<1:\n",
    "            broadcast_network.append(255)\n",
    "            y+=1\n",
    "            print(broadcast_network)\n",
    "            new_network[3] +=1 \n",
    "            print('First Network',new_network)\n",
    "            broadcast_network[3] = broadcast_network[3]-1\n",
    "            print('Broadcast address is ',broadcast_network)\n",
    "\n",
    "\n",
    "            subnetworkConverter([10,23,45,55],24)\n",
    "\n"
   ]
  },
  {
   "cell_type": "code",
   "execution_count": null,
   "metadata": {},
   "outputs": [],
   "source": []
  }
 ],
 "metadata": {
  "colab": {
   "name": "Untitled30.ipynb",
   "provenance": []
  },
  "kernelspec": {
   "display_name": "Python 3",
   "language": "python",
   "name": "python3"
  },
  "language_info": {
   "codemirror_mode": {
    "name": "ipython",
    "version": 3
   },
   "file_extension": ".py",
   "mimetype": "text/x-python",
   "name": "python",
   "nbconvert_exporter": "python",
   "pygments_lexer": "ipython3",
   "version": "3.7.6"
  }
 },
 "nbformat": 4,
 "nbformat_minor": 1
}
